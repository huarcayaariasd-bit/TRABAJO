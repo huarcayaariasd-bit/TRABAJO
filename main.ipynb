{
 "cells": [
  {
   "cell_type": "code",
   "execution_count": null,
   "id": "f8bcb51f",
   "metadata": {},
   "outputs": [],
   "source": [
    "{\n",
    "    \"cells\": [],\n",
    "    \"metadata\": {},\n",
    "    \"nbformat\": 4,\n",
    "    \"nbformat_minor\"5\n",
    "}"
   ]
  },
  {
   "cell_type": "code",
   "execution_count": null,
   "id": "85b99f0d",
   "metadata": {},
   "outputs": [],
   "source": [
    "#Imports\n",
    "from estadistica.cualitativa import EstadisticaCualitativa\n",
    "from estadistica.cuantitativa import EstadisticaCuantitativa"
   ]
  },
  {
   "cell_type": "code",
   "execution_count": null,
   "id": "9628b512",
   "metadata": {},
   "outputs": [],
   "source": [
    "#Ejemplo con datos cualitativos\n",
    "datos_cat = ['Rojo', 'Rojo', 'Azul', 'Verde', 'Azul', 'Rojo', None]\n",
    "cuali = EstadisticaCualitativa([d for d in datos_cat if d is not None])\n",
    "cuali.resumen()"
   ]
  },
  {
   "cell_type": "code",
   "execution_count": null,
   "id": "28395446",
   "metadata": {},
   "outputs": [],
   "source": [
    "#Usando nuestra libreria con datos reales como la base de datos Titanic (columna categórica Embarked) \n",
    "import pandas as pd\n",
    "df = pd.read_csv(\"titanic.csv\")    \n",
    "embarked = df['Embarked'].dropna().tolist()\n",
    "cuali_embarked = EstadisticaCualitativa(embarked)\n",
    "cuali_embarked.resumen()\n"
   ]
  }
 ],
 "metadata": {
  "language_info": {
   "name": "python"
  }
 },
 "nbformat": 4,
 "nbformat_minor": 5
}

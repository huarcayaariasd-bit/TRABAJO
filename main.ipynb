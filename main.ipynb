{
 "cells": [
  {
   "cell_type": "code",
   "execution_count": 3,
   "id": "f8bcb51f",
   "metadata": {},
   "outputs": [
    {
     "data": {
      "text/plain": [
       "{'cells': [], 'metadata': {}, 'nbformat': 4, 'nbformat_minor': 5}"
      ]
     },
     "execution_count": 3,
     "metadata": {},
     "output_type": "execute_result"
    }
   ],
   "source": [
    "{\n",
    "    \"cells\": [],\n",
    "    \"metadata\": {},\n",
    "    \"nbformat\": 4,\n",
    "    \"nbformat_minor\": 5\n",
    "}"
   ]
  },
  {
   "cell_type": "code",
   "execution_count": 4,
   "id": "85b99f0d",
   "metadata": {},
   "outputs": [],
   "source": [
    "#Imports\n",
    "from estadistica.cualitativa import EstadisticaCualitativa\n",
    "from estadistica.cuantitativa import EstadisticaCuantitativa"
   ]
  },
  {
   "cell_type": "code",
   "execution_count": 5,
   "id": "9628b512",
   "metadata": {},
   "outputs": [
    {
     "data": {
      "text/plain": [
       "{'moda': ['Rojo'],\n",
       " 'frecuencias': {'Rojo': 3, 'Azul': 2, 'Verde': 1},\n",
       " 'porcentajes': {'Rojo': 50.0, 'Azul': 33.33, 'Verde': 16.67}}"
      ]
     },
     "execution_count": 5,
     "metadata": {},
     "output_type": "execute_result"
    }
   ],
   "source": [
    "#Ejemplo con datos cualitativos\n",
    "datos_cat = ['Rojo', 'Rojo', 'Azul', 'Verde', 'Azul', 'Rojo', None]\n",
    "cuali = EstadisticaCualitativa([d for d in datos_cat if d is not None])\n",
    "cuali.resumen()"
   ]
  },
  {
   "cell_type": "code",
   "execution_count": 6,
   "id": "28395446",
   "metadata": {},
   "outputs": [
    {
     "data": {
      "text/plain": [
       "{'moda': ['S'],\n",
       " 'frecuencias': {'S': 644, 'C': 168, 'Q': 77},\n",
       " 'porcentajes': {'S': 72.44, 'C': 18.9, 'Q': 8.66}}"
      ]
     },
     "execution_count": 6,
     "metadata": {},
     "output_type": "execute_result"
    }
   ],
   "source": [
    "#Usando nuestra libreria con datos reales como la base de datos Titanic (columna categórica Embarked) \n",
    "import pandas as pd\n",
    "df = pd.read_csv(\"data/titanic.csv\")    \n",
    "embarked = df['Embarked'].dropna().tolist()\n",
    "cuali_embarked = EstadisticaCualitativa(embarked)\n",
    "cuali_embarked.resumen()\n"
   ]
  },
  {
   "cell_type": "code",
   "execution_count": 7,
   "id": "04f9f8e4-5bd0-4496-96c9-be63e898b8b1",
   "metadata": {},
   "outputs": [],
   "source": [
    "from estadistica.cuantitativa import EstadisticaCuantitativa\n",
    "from estadistica.cualitativa import EstadisticaCualitativa"
   ]
  },
  {
   "cell_type": "code",
   "execution_count": 8,
   "id": "48b4396d-80bc-4c8e-ac1d-dde21f6232c2",
   "metadata": {},
   "outputs": [
    {
     "data": {
      "text/html": [
       "<div>\n",
       "<style scoped>\n",
       "    .dataframe tbody tr th:only-of-type {\n",
       "        vertical-align: middle;\n",
       "    }\n",
       "\n",
       "    .dataframe tbody tr th {\n",
       "        vertical-align: top;\n",
       "    }\n",
       "\n",
       "    .dataframe thead th {\n",
       "        text-align: right;\n",
       "    }\n",
       "</style>\n",
       "<table border=\"1\" class=\"dataframe\">\n",
       "  <thead>\n",
       "    <tr style=\"text-align: right;\">\n",
       "      <th></th>\n",
       "      <th>PassengerId</th>\n",
       "      <th>Survived</th>\n",
       "      <th>Pclass</th>\n",
       "      <th>Name</th>\n",
       "      <th>Sex</th>\n",
       "      <th>Age</th>\n",
       "      <th>SibSp</th>\n",
       "      <th>Parch</th>\n",
       "      <th>Ticket</th>\n",
       "      <th>Fare</th>\n",
       "      <th>Cabin</th>\n",
       "      <th>Embarked</th>\n",
       "    </tr>\n",
       "  </thead>\n",
       "  <tbody>\n",
       "    <tr>\n",
       "      <th>0</th>\n",
       "      <td>1</td>\n",
       "      <td>0</td>\n",
       "      <td>3</td>\n",
       "      <td>Braund, Mr. Owen Harris</td>\n",
       "      <td>male</td>\n",
       "      <td>22.0</td>\n",
       "      <td>1</td>\n",
       "      <td>0</td>\n",
       "      <td>A/5 21171</td>\n",
       "      <td>7.2500</td>\n",
       "      <td>NaN</td>\n",
       "      <td>S</td>\n",
       "    </tr>\n",
       "    <tr>\n",
       "      <th>1</th>\n",
       "      <td>2</td>\n",
       "      <td>1</td>\n",
       "      <td>1</td>\n",
       "      <td>Cumings, Mrs. John Bradley (Florence Briggs Th...</td>\n",
       "      <td>female</td>\n",
       "      <td>38.0</td>\n",
       "      <td>1</td>\n",
       "      <td>0</td>\n",
       "      <td>PC 17599</td>\n",
       "      <td>71.2833</td>\n",
       "      <td>C85</td>\n",
       "      <td>C</td>\n",
       "    </tr>\n",
       "    <tr>\n",
       "      <th>2</th>\n",
       "      <td>3</td>\n",
       "      <td>1</td>\n",
       "      <td>3</td>\n",
       "      <td>Heikkinen, Miss. Laina</td>\n",
       "      <td>female</td>\n",
       "      <td>26.0</td>\n",
       "      <td>0</td>\n",
       "      <td>0</td>\n",
       "      <td>STON/O2. 3101282</td>\n",
       "      <td>7.9250</td>\n",
       "      <td>NaN</td>\n",
       "      <td>S</td>\n",
       "    </tr>\n",
       "    <tr>\n",
       "      <th>3</th>\n",
       "      <td>4</td>\n",
       "      <td>1</td>\n",
       "      <td>1</td>\n",
       "      <td>Futrelle, Mrs. Jacques Heath (Lily May Peel)</td>\n",
       "      <td>female</td>\n",
       "      <td>35.0</td>\n",
       "      <td>1</td>\n",
       "      <td>0</td>\n",
       "      <td>113803</td>\n",
       "      <td>53.1000</td>\n",
       "      <td>C123</td>\n",
       "      <td>S</td>\n",
       "    </tr>\n",
       "    <tr>\n",
       "      <th>4</th>\n",
       "      <td>5</td>\n",
       "      <td>0</td>\n",
       "      <td>3</td>\n",
       "      <td>Allen, Mr. William Henry</td>\n",
       "      <td>male</td>\n",
       "      <td>35.0</td>\n",
       "      <td>0</td>\n",
       "      <td>0</td>\n",
       "      <td>373450</td>\n",
       "      <td>8.0500</td>\n",
       "      <td>NaN</td>\n",
       "      <td>S</td>\n",
       "    </tr>\n",
       "  </tbody>\n",
       "</table>\n",
       "</div>"
      ],
      "text/plain": [
       "   PassengerId  Survived  Pclass  \\\n",
       "0            1         0       3   \n",
       "1            2         1       1   \n",
       "2            3         1       3   \n",
       "3            4         1       1   \n",
       "4            5         0       3   \n",
       "\n",
       "                                                Name     Sex   Age  SibSp  \\\n",
       "0                            Braund, Mr. Owen Harris    male  22.0      1   \n",
       "1  Cumings, Mrs. John Bradley (Florence Briggs Th...  female  38.0      1   \n",
       "2                             Heikkinen, Miss. Laina  female  26.0      0   \n",
       "3       Futrelle, Mrs. Jacques Heath (Lily May Peel)  female  35.0      1   \n",
       "4                           Allen, Mr. William Henry    male  35.0      0   \n",
       "\n",
       "   Parch            Ticket     Fare Cabin Embarked  \n",
       "0      0         A/5 21171   7.2500   NaN        S  \n",
       "1      0          PC 17599  71.2833   C85        C  \n",
       "2      0  STON/O2. 3101282   7.9250   NaN        S  \n",
       "3      0            113803  53.1000  C123        S  \n",
       "4      0            373450   8.0500   NaN        S  "
      ]
     },
     "execution_count": 8,
     "metadata": {},
     "output_type": "execute_result"
    }
   ],
   "source": [
    "df = pd.read_csv(\"data/titanic.csv\")\n",
    "df.head()"
   ]
  },
  {
   "cell_type": "code",
   "execution_count": 9,
   "id": "d4461997-0a0f-4ede-bc99-2e1328475e6c",
   "metadata": {},
   "outputs": [],
   "source": [
    "import importlib\n",
    "from estadistica import cuantitativa\n",
    "\n",
    "importlib.reload(cuantitativa)  \n",
    "from estadistica.cuantitativa import EstadisticaCuantitativa"
   ]
  },
  {
   "cell_type": "code",
   "execution_count": 10,
   "id": "09146dfe-e553-4d43-83f4-384257977afc",
   "metadata": {},
   "outputs": [
    {
     "name": "stdout",
     "output_type": "stream",
     "text": [
      "Estadísticas de Edad:\n",
      "{'media': np.float64(29.69911764705882), 'mediana': np.float64(28.0), 'varianza': np.float64(211.01912474630805), 'desviacion_estandar': np.float64(14.526497332334042), 'percentil_25': np.float64(20.125), 'percentil_50': np.float64(28.0), 'percentil_75': np.float64(38.0)}\n",
      "\n",
      " Estadísticas de Tarifa:\n",
      "{'media': np.float64(32.204207968574636), 'mediana': np.float64(14.4542), 'varianza': np.float64(2469.436845743116), 'desviacion_estandar': np.float64(49.6934285971809), 'percentil_25': np.float64(7.9104), 'percentil_50': np.float64(14.4542), 'percentil_75': np.float64(31.0)}\n"
     ]
    }
   ],
   "source": [
    "edades = df['Age'].dropna().tolist()\n",
    "tarifas = df['Fare'].dropna().tolist()\n",
    "\n",
    "edad_est = EstadisticaCuantitativa(edades)\n",
    "tarifa_est = EstadisticaCuantitativa(tarifas)\n",
    "\n",
    "print(\"Estadísticas de Edad:\")\n",
    "print(edad_est.resumen())\n",
    "\n",
    "print(\"\\n Estadísticas de Tarifa:\")\n",
    "print(tarifa_est.resumen())\n",
    "\n"
   ]
  },
  {
   "cell_type": "code",
   "execution_count": 11,
   "id": "2d6743b1-8231-4078-82cf-020ea30588c5",
   "metadata": {},
   "outputs": [
    {
     "name": "stdout",
     "output_type": "stream",
     "text": [
      " Estadísticas de Sexo:\n",
      "{'moda': ['male'], 'frecuencias': {'male': 577, 'female': 314}, 'porcentajes': {'male': 64.76, 'female': 35.24}}\n",
      "\n",
      " Estadísticas de Puerto de embarque:\n",
      "{'moda': ['S'], 'frecuencias': {'S': 644, 'C': 168, 'Q': 77}, 'porcentajes': {'S': 72.44, 'C': 18.9, 'Q': 8.66}}\n"
     ]
    }
   ],
   "source": [
    "sexos = df['Sex'].dropna().tolist()\n",
    "puertos = df['Embarked'].dropna().tolist()\n",
    "\n",
    "sexo_est = EstadisticaCualitativa(sexos)\n",
    "puerto_est = EstadisticaCualitativa(puertos)\n",
    "\n",
    "print(\" Estadísticas de Sexo:\")\n",
    "print(sexo_est.resumen())\n",
    "\n",
    "print(\"\\n Estadísticas de Puerto de embarque:\")\n",
    "print(puerto_est.resumen())\n"
   ]
  },
  {
   "cell_type": "code",
   "execution_count": 12,
   "id": "698073d2-24ab-4084-9b4b-a894622599ed",
   "metadata": {},
   "outputs": [],
   "source": [
    "import pandas as pd\n",
    "\n",
    "# Tablas para las variables cuantitativas \n",
    "tabla_edad = pd.DataFrame(list(edad_est.resumen().items()), columns=[\"Estadístico\", \"Valor\"])\n",
    "tabla_tarifa = pd.DataFrame(list(tarifa_est.resumen().items()), columns=[\"Estadístico\", \"Valor\"])\n",
    "\n",
    "# Tablas para las variables cualitativas\n",
    "tabla_sexo = pd.DataFrame({\n",
    "    \"Categoría\": list(sexo_est.resumen()[\"frecuencias\"].keys()),\n",
    "    \"Frecuencia\": list(sexo_est.resumen()[\"frecuencias\"].values()),\n",
    "    \"Porcentaje\": list(sexo_est.resumen()[\"porcentajes\"].values())\n",
    "})\n",
    "\n",
    "tabla_puerto = pd.DataFrame({\n",
    "    \"Categoría\": list(puerto_est.resumen()[\"frecuencias\"].keys()),\n",
    "    \"Frecuencia\": list(puerto_est.resumen()[\"frecuencias\"].values()),\n",
    "    \"Porcentaje\": list(puerto_est.resumen()[\"porcentajes\"].values())\n",
    "})"
   ]
  },
  {
   "cell_type": "code",
   "execution_count": 18,
   "id": "97d6b2b8-cedb-446f-b759-b910f6ef3ee3",
   "metadata": {},
   "outputs": [
    {
     "name": "stdout",
     "output_type": "stream",
     "text": [
      "Estadísticas Cuantitativas - Edad\n"
     ]
    },
    {
     "data": {
      "text/html": [
       "<style type=\"text/css\">\n",
       "</style>\n",
       "<table id=\"T_fd35e\">\n",
       "  <thead>\n",
       "    <tr>\n",
       "      <th id=\"T_fd35e_level0_col0\" class=\"col_heading level0 col0\" >Estadístico</th>\n",
       "      <th id=\"T_fd35e_level0_col1\" class=\"col_heading level0 col1\" >Valor</th>\n",
       "    </tr>\n",
       "  </thead>\n",
       "  <tbody>\n",
       "    <tr>\n",
       "      <td id=\"T_fd35e_row0_col0\" class=\"data row0 col0\" >media</td>\n",
       "      <td id=\"T_fd35e_row0_col1\" class=\"data row0 col1\" >29.699118</td>\n",
       "    </tr>\n",
       "    <tr>\n",
       "      <td id=\"T_fd35e_row1_col0\" class=\"data row1 col0\" >mediana</td>\n",
       "      <td id=\"T_fd35e_row1_col1\" class=\"data row1 col1\" >28.000000</td>\n",
       "    </tr>\n",
       "    <tr>\n",
       "      <td id=\"T_fd35e_row2_col0\" class=\"data row2 col0\" >varianza</td>\n",
       "      <td id=\"T_fd35e_row2_col1\" class=\"data row2 col1\" >211.019125</td>\n",
       "    </tr>\n",
       "    <tr>\n",
       "      <td id=\"T_fd35e_row3_col0\" class=\"data row3 col0\" >desviacion_estandar</td>\n",
       "      <td id=\"T_fd35e_row3_col1\" class=\"data row3 col1\" >14.526497</td>\n",
       "    </tr>\n",
       "    <tr>\n",
       "      <td id=\"T_fd35e_row4_col0\" class=\"data row4 col0\" >percentil_25</td>\n",
       "      <td id=\"T_fd35e_row4_col1\" class=\"data row4 col1\" >20.125000</td>\n",
       "    </tr>\n",
       "    <tr>\n",
       "      <td id=\"T_fd35e_row5_col0\" class=\"data row5 col0\" >percentil_50</td>\n",
       "      <td id=\"T_fd35e_row5_col1\" class=\"data row5 col1\" >28.000000</td>\n",
       "    </tr>\n",
       "    <tr>\n",
       "      <td id=\"T_fd35e_row6_col0\" class=\"data row6 col0\" >percentil_75</td>\n",
       "      <td id=\"T_fd35e_row6_col1\" class=\"data row6 col1\" >38.000000</td>\n",
       "    </tr>\n",
       "  </tbody>\n",
       "</table>\n"
      ],
      "text/plain": [
       "<pandas.io.formats.style.Styler at 0x29f45b9cec0>"
      ]
     },
     "metadata": {},
     "output_type": "display_data"
    }
   ],
   "source": [
    "print(\"Estadísticas Cuantitativas - Edad\")\n",
    "display(tabla_edad.style.hide(axis=\"index\"))"
   ]
  },
  {
   "cell_type": "code",
   "execution_count": 19,
   "id": "490574dc-fa81-4fb0-b96f-2f10862c5919",
   "metadata": {},
   "outputs": [
    {
     "name": "stdout",
     "output_type": "stream",
     "text": [
      "\n",
      " Estadísticas Cuantitativas - Tarifa\n"
     ]
    },
    {
     "data": {
      "text/html": [
       "<style type=\"text/css\">\n",
       "</style>\n",
       "<table id=\"T_86473\">\n",
       "  <thead>\n",
       "    <tr>\n",
       "      <th id=\"T_86473_level0_col0\" class=\"col_heading level0 col0\" >Estadístico</th>\n",
       "      <th id=\"T_86473_level0_col1\" class=\"col_heading level0 col1\" >Valor</th>\n",
       "    </tr>\n",
       "  </thead>\n",
       "  <tbody>\n",
       "    <tr>\n",
       "      <td id=\"T_86473_row0_col0\" class=\"data row0 col0\" >media</td>\n",
       "      <td id=\"T_86473_row0_col1\" class=\"data row0 col1\" >32.204208</td>\n",
       "    </tr>\n",
       "    <tr>\n",
       "      <td id=\"T_86473_row1_col0\" class=\"data row1 col0\" >mediana</td>\n",
       "      <td id=\"T_86473_row1_col1\" class=\"data row1 col1\" >14.454200</td>\n",
       "    </tr>\n",
       "    <tr>\n",
       "      <td id=\"T_86473_row2_col0\" class=\"data row2 col0\" >varianza</td>\n",
       "      <td id=\"T_86473_row2_col1\" class=\"data row2 col1\" >2469.436846</td>\n",
       "    </tr>\n",
       "    <tr>\n",
       "      <td id=\"T_86473_row3_col0\" class=\"data row3 col0\" >desviacion_estandar</td>\n",
       "      <td id=\"T_86473_row3_col1\" class=\"data row3 col1\" >49.693429</td>\n",
       "    </tr>\n",
       "    <tr>\n",
       "      <td id=\"T_86473_row4_col0\" class=\"data row4 col0\" >percentil_25</td>\n",
       "      <td id=\"T_86473_row4_col1\" class=\"data row4 col1\" >7.910400</td>\n",
       "    </tr>\n",
       "    <tr>\n",
       "      <td id=\"T_86473_row5_col0\" class=\"data row5 col0\" >percentil_50</td>\n",
       "      <td id=\"T_86473_row5_col1\" class=\"data row5 col1\" >14.454200</td>\n",
       "    </tr>\n",
       "    <tr>\n",
       "      <td id=\"T_86473_row6_col0\" class=\"data row6 col0\" >percentil_75</td>\n",
       "      <td id=\"T_86473_row6_col1\" class=\"data row6 col1\" >31.000000</td>\n",
       "    </tr>\n",
       "  </tbody>\n",
       "</table>\n"
      ],
      "text/plain": [
       "<pandas.io.formats.style.Styler at 0x29f454a2ad0>"
      ]
     },
     "metadata": {},
     "output_type": "display_data"
    }
   ],
   "source": [
    "print(\"\\n Estadísticas Cuantitativas - Tarifa\")\n",
    "display(tabla_tarifa.style.hide(axis=\"index\"))"
   ]
  },
  {
   "cell_type": "code",
   "execution_count": 20,
   "id": "eac8298f-6e24-4fc0-b152-f7476056d22a",
   "metadata": {},
   "outputs": [
    {
     "name": "stdout",
     "output_type": "stream",
     "text": [
      "\n",
      " Estadísticas Cualitativas - Sexo\n"
     ]
    },
    {
     "data": {
      "text/html": [
       "<style type=\"text/css\">\n",
       "</style>\n",
       "<table id=\"T_83a08\">\n",
       "  <thead>\n",
       "    <tr>\n",
       "      <th id=\"T_83a08_level0_col0\" class=\"col_heading level0 col0\" >Categoría</th>\n",
       "      <th id=\"T_83a08_level0_col1\" class=\"col_heading level0 col1\" >Frecuencia</th>\n",
       "      <th id=\"T_83a08_level0_col2\" class=\"col_heading level0 col2\" >Porcentaje</th>\n",
       "    </tr>\n",
       "  </thead>\n",
       "  <tbody>\n",
       "    <tr>\n",
       "      <td id=\"T_83a08_row0_col0\" class=\"data row0 col0\" >male</td>\n",
       "      <td id=\"T_83a08_row0_col1\" class=\"data row0 col1\" >577</td>\n",
       "      <td id=\"T_83a08_row0_col2\" class=\"data row0 col2\" >64.760000</td>\n",
       "    </tr>\n",
       "    <tr>\n",
       "      <td id=\"T_83a08_row1_col0\" class=\"data row1 col0\" >female</td>\n",
       "      <td id=\"T_83a08_row1_col1\" class=\"data row1 col1\" >314</td>\n",
       "      <td id=\"T_83a08_row1_col2\" class=\"data row1 col2\" >35.240000</td>\n",
       "    </tr>\n",
       "  </tbody>\n",
       "</table>\n"
      ],
      "text/plain": [
       "<pandas.io.formats.style.Styler at 0x29f454a2ad0>"
      ]
     },
     "metadata": {},
     "output_type": "display_data"
    }
   ],
   "source": [
    "print(\"\\n Estadísticas Cualitativas - Sexo\")\n",
    "display(tabla_sexo.style.hide(axis=\"index\"))\n"
   ]
  },
  {
   "cell_type": "code",
   "execution_count": 21,
   "id": "387c6267-1e2c-45d1-b78e-be391934ea69",
   "metadata": {},
   "outputs": [
    {
     "name": "stdout",
     "output_type": "stream",
     "text": [
      "\n",
      " Estadísticas Cualitativas - Puerto de embarque\n"
     ]
    },
    {
     "data": {
      "text/html": [
       "<style type=\"text/css\">\n",
       "</style>\n",
       "<table id=\"T_0f68a\">\n",
       "  <thead>\n",
       "    <tr>\n",
       "      <th id=\"T_0f68a_level0_col0\" class=\"col_heading level0 col0\" >Categoría</th>\n",
       "      <th id=\"T_0f68a_level0_col1\" class=\"col_heading level0 col1\" >Frecuencia</th>\n",
       "      <th id=\"T_0f68a_level0_col2\" class=\"col_heading level0 col2\" >Porcentaje</th>\n",
       "    </tr>\n",
       "  </thead>\n",
       "  <tbody>\n",
       "    <tr>\n",
       "      <td id=\"T_0f68a_row0_col0\" class=\"data row0 col0\" >S</td>\n",
       "      <td id=\"T_0f68a_row0_col1\" class=\"data row0 col1\" >644</td>\n",
       "      <td id=\"T_0f68a_row0_col2\" class=\"data row0 col2\" >72.440000</td>\n",
       "    </tr>\n",
       "    <tr>\n",
       "      <td id=\"T_0f68a_row1_col0\" class=\"data row1 col0\" >C</td>\n",
       "      <td id=\"T_0f68a_row1_col1\" class=\"data row1 col1\" >168</td>\n",
       "      <td id=\"T_0f68a_row1_col2\" class=\"data row1 col2\" >18.900000</td>\n",
       "    </tr>\n",
       "    <tr>\n",
       "      <td id=\"T_0f68a_row2_col0\" class=\"data row2 col0\" >Q</td>\n",
       "      <td id=\"T_0f68a_row2_col1\" class=\"data row2 col1\" >77</td>\n",
       "      <td id=\"T_0f68a_row2_col2\" class=\"data row2 col2\" >8.660000</td>\n",
       "    </tr>\n",
       "  </tbody>\n",
       "</table>\n"
      ],
      "text/plain": [
       "<pandas.io.formats.style.Styler at 0x29f454a2ad0>"
      ]
     },
     "metadata": {},
     "output_type": "display_data"
    }
   ],
   "source": [
    "print(\"\\n Estadísticas Cualitativas - Puerto de embarque\")\n",
    "display(tabla_puerto.style.hide(axis=\"index\"))"
   ]
  }
 ],
 "metadata": {
  "kernelspec": {
   "display_name": "Python [conda env:base] *",
   "language": "python",
   "name": "conda-base-py"
  },
  "language_info": {
   "codemirror_mode": {
    "name": "ipython",
    "version": 3
   },
   "file_extension": ".py",
   "mimetype": "text/x-python",
   "name": "python",
   "nbconvert_exporter": "python",
   "pygments_lexer": "ipython3",
   "version": "3.13.5"
  }
 },
 "nbformat": 4,
 "nbformat_minor": 5
}
